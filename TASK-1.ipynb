{
 "cells": [
  {
   "cell_type": "code",
   "execution_count": 1,
   "id": "82572714",
   "metadata": {},
   "outputs": [
    {
     "name": "stdout",
     "output_type": "stream",
     "text": [
      "Reversed string: !dlrow ,olleH\n"
     ]
    }
   ],
   "source": [
    "#1. Objective: To identify and fix errors in a Python program that manipulates strings.\n",
    "def reverse_string(s):\n",
    "    reversed_str = \"\"  # Fix: Changed variable name to avoid conflict with the built-in 'reversed' function\n",
    "    for i in range(len(s) - 1, -1, -1):\n",
    "        reversed_str += s[i]\n",
    "    return reversed_str\n",
    "\n",
    "def main():\n",
    "    input_string = \"Hello, world!\"\n",
    "    reversed_string = reverse_string(input_string)\n",
    "    print(f\"Reversed string: {reversed_string}\")\n",
    "\n",
    "if __name__ == \"__main__\":\n",
    "    main()\n"
   ]
  },
  {
   "cell_type": "code",
   "execution_count": null,
   "id": "88736a75",
   "metadata": {},
   "outputs": [],
   "source": [
    "#2.Objective: To identify and fix errors in a Python program that validates user input.\n",
    "\n",
    "def get_age():\n",
    "    age = input(\"Please enter your age: \")\n",
    "    if age.isnumeric() and int(age) >= 18:  # Fix: Convert age to int for comparison\n",
    "        return int(age)\n",
    "    else:\n",
    "        return None\n",
    "\n",
    "def main():\n",
    "    age = get_age()\n",
    "    if age:\n",
    "        print(f\"You are {age} years old and eligible.\")\n",
    "    else:\n",
    "        print(\"Invalid input. You must be at least 18 years old.\")\n",
    "\n",
    "if __name__ == \"__main__\":\n",
    "    main()\n",
    "\n",
    "\n",
    "\n"
   ]
  },
  {
   "cell_type": "code",
   "execution_count": 4,
   "id": "2bd3a415",
   "metadata": {},
   "outputs": [
    {
     "name": "stdout",
     "output_type": "stream",
     "text": [
      "An error occurred: [Errno 2] No such file or directory: 'sample.txt'\n"
     ]
    }
   ],
   "source": [
    "#3.Objective: To identify and fix errors in a Python program that reads and writes to a file.\n",
    "\n",
    "def read_and_write_file(filename):\n",
    "    try:\n",
    "        with open(filename, 'r') as file:\n",
    "            content = file.read()\n",
    "        with open(filename, 'w') as file:\n",
    "            file.write(content.upper())\n",
    "        print(f\"File '{filename}' processed successfully.\")\n",
    "    except Exception as e:\n",
    "        print(f\"An error occurred: {str(e)}\")\n",
    "\n",
    "def main():\n",
    "    filename = \"sample.txt\"\n",
    "    read_and_write_file(filename)\n",
    "\n",
    "if __name__ == \"__main__\":\n",
    "    main()\n"
   ]
  },
  {
   "cell_type": "code",
   "execution_count": 3,
   "id": "0e05f947",
   "metadata": {},
   "outputs": [
    {
     "name": "stdout",
     "output_type": "stream",
     "text": [
      "The sorted array is: [3, 9, 10, 27, 38, 43, 82]\n"
     ]
    }
   ],
   "source": [
    "#4.The code aims to implement the merge sort algorithm\n",
    "def merge_sort(arr):\n",
    "    if len(arr) <= 1:\n",
    "        return arr\n",
    "    \n",
    "    mid = len(arr) // 2\n",
    "    left = arr[:mid]\n",
    "    right = arr[mid:]\n",
    "    \n",
    "    merge_sort(left)\n",
    "    merge_sort(right)\n",
    "    \n",
    "    i = j = k = 0\n",
    "    \n",
    "    while i < len(left) and j < len(right):\n",
    "        if left[i] < right[j]:\n",
    "            arr[k] = left[i]\n",
    "            i += 1\n",
    "        else:\n",
    "            arr[k] = right[j]\n",
    "            j += 1\n",
    "        k += 1\n",
    "    \n",
    "    while i < len(left):\n",
    "        arr[k] = left[i]\n",
    "        i += 1\n",
    "        k += 1\n",
    "    \n",
    "    while j < len(right):\n",
    "        arr[k] = right[j]\n",
    "        j += 1\n",
    "        k += 1\n",
    "\n",
    "arr = [38, 27, 43, 3, 9, 82, 10]\n",
    "merge_sort(arr)\n",
    "print(f\"The sorted array is: {arr}\")"
   ]
  },
  {
   "cell_type": "code",
   "execution_count": null,
   "id": "d0402f4f",
   "metadata": {},
   "outputs": [],
   "source": []
  },
  {
   "cell_type": "code",
   "execution_count": null,
   "id": "2efb4995",
   "metadata": {},
   "outputs": [],
   "source": []
  }
 ],
 "metadata": {
  "kernelspec": {
   "display_name": "Python 3 (ipykernel)",
   "language": "python",
   "name": "python3"
  },
  "language_info": {
   "codemirror_mode": {
    "name": "ipython",
    "version": 3
   },
   "file_extension": ".py",
   "mimetype": "text/x-python",
   "name": "python",
   "nbconvert_exporter": "python",
   "pygments_lexer": "ipython3",
   "version": "3.11.5"
  }
 },
 "nbformat": 4,
 "nbformat_minor": 5
}
